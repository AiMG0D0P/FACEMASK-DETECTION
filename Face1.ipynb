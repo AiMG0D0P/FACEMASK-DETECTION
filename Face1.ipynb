{
 "cells": [
  {
   "cell_type": "markdown",
   "source": [
    "FACE-MASK DETECTION SYSTEM PRE-CODE"
   ],
   "metadata": {
    "collapsed": false
   },
   "id": "cb16f8090ab51790"
  },
  {
   "cell_type": "code",
   "execution_count": null,
   "id": "initial_id",
   "metadata": {
    "collapsed": true
   },
   "outputs": [],
   "source": [
    "#!/usr/bin/env python\n",
    "# coding: utf-8\n",
    "\n",
    "\n",
    "#infrence code to detect font styles.\n",
    "\n",
    "\n",
    "\n",
    "import torch\n",
    "import torch.nn as nn\n",
    "import torch.optim as optim\n",
    "from torch.optim import lr_scheduler\n",
    "import numpy as np\n",
    "import torchvision \n",
    "from torchvision import datasets, models, transforms\n",
    "import matplotlib.pyplot as plt\n",
    "import time\n",
    "import os\n",
    "import pandas as pd\n",
    "from sklearn.model_selection import train_test_split\n",
    "import shutil\n",
    "import time\n",
    "import copy\n",
    "from PIL import Image\n",
    "import glob\n",
    "\n",
    "\n",
    "filepath = 'mask1_model_resnet50.pth'\n",
    "model = torch.load(filepath)\n",
    "\n",
    "\n",
    "class_names = ['with_mask',\n",
    " 'without_mask'\n",
    "]\n",
    "\n",
    "\n",
    "\n",
    "def process_image(image):\n",
    "    ''' Scales, crops, and normalizes a PIL image for a PyTorch model,\n",
    "        returns an Numpy array\n",
    "    '''\n",
    "    \n",
    "    # TODO: Process a PIL image for use in a PyTorch model\n",
    "    pil_image = Image.open(image)\n",
    "    #pil_image = image\n",
    "   \n",
    "    image_transforms = transforms.Compose([\n",
    "        transforms.Resize(256),\n",
    "        transforms.CenterCrop(224),\n",
    "        transforms.ToTensor(),\n",
    "        transforms.Normalize([0.485, 0.456, 0.406], [0.229, 0.224, 0.225])\n",
    "    ])\n",
    "    \n",
    "    img = image_transforms(pil_image)\n",
    "    return img\n",
    "\n",
    "\n",
    "\n",
    "\n",
    "def classify_face(image_path):\n",
    "    device = torch.device(\"cpu\")\n",
    "    img = process_image(image_path)\n",
    "    print('image_processed')\n",
    "    img = img.unsqueeze_(0)\n",
    "    img = img.float()\n",
    "\n",
    "    model.eval()\n",
    "    model.cpu()\n",
    "    output = model(img)\n",
    "    print(output,'##############output###########')\n",
    "    _, predicted = torch.max(output, 1)\n",
    "    print(predicted.data[0],\"predicted\")\n",
    "\n",
    "\n",
    "    classification1 = predicted.data[0]\n",
    "    index = int(classification1)\n",
    "    print(class_names[index])\n",
    "    return class_names[index]\n",
    "\n",
    "if __name__ == '__main__':\n",
    "    map_location=torch.device('cpu')\n",
    "    image_path = 'IMG20200402191409_02.jpg'\n",
    "    label = classify_face(image_path)\n",
    "    print(\"the label is\", label)"
   ]
  },
  {
   "cell_type": "markdown",
   "source": [
    "Label Detection"
   ],
   "metadata": {
    "collapsed": false
   },
   "id": "3b989de0268f2f55"
  },
  {
   "cell_type": "code",
   "execution_count": null,
   "outputs": [],
   "source": [
    "#!/usr/bin/env python\n",
    "# coding: utf-8\n",
    "\n",
    "\n",
    "\n",
    "\n",
    "import torch\n",
    "import torch.nn as nn\n",
    "import torch.optim as optim\n",
    "from torch.optim import lr_scheduler\n",
    "import numpy as np\n",
    "import torchvision\n",
    "from torchvision import datasets, models, transforms\n",
    "import matplotlib.pyplot as plt\n",
    "import time\n",
    "import os\n",
    "import pandas as pd\n",
    "from sklearn.model_selection import train_test_split\n",
    "import shutil\n",
    "import time\n",
    "import copy\n",
    "from PIL import Image\n",
    "import glob\n",
    "import cv2\n",
    "\n",
    "\n",
    "filepath = 'mask1_model_resnet50.pth'\n",
    "model = torch.load(filepath)\n",
    "\n",
    "\n",
    "class_names = ['with_mask',\n",
    " 'without_mask'\n",
    "]\n",
    "\n",
    "\n",
    "\n",
    "def process_image(image):\n",
    "    ''' Scales, crops, and normalizes a PIL image for a PyTorch model,\n",
    "        returns an Numpy array\n",
    "    '''\n",
    "    \n",
    "    # TODO: Process a PIL image for use in a PyTorch model\n",
    "    #pil_image = Image.open(image)\n",
    "    pil_image = image\n",
    "   \n",
    "    image_transforms = transforms.Compose([\n",
    "        transforms.Resize(256),\n",
    "        transforms.CenterCrop(224),\n",
    "        transforms.ToTensor(),\n",
    "        transforms.Normalize([0.485, 0.456, 0.406], [0.229, 0.224, 0.225])\n",
    "    ])\n",
    "    \n",
    "    img = image_transforms(pil_image)\n",
    "    return img\n",
    "    \n",
    "    \n",
    "\n",
    "\n",
    "def classify_face(image):\n",
    "    device = torch.device(\"cpu\")\n",
    "    image = cv2.cvtColor(image, cv2.COLOR_BGR2RGB)\n",
    "    #im_pil = image.fromarray(image)\n",
    "    #image = np.asarray(im)\n",
    "    im = Image.fromarray(image)\n",
    "    image = process_image(im)\n",
    "    print('image_processed')\n",
    "    img = image.unsqueeze_(0)\n",
    "    img = image.float()\n",
    "\n",
    "    model.eval()\n",
    "    model.cpu()\n",
    "    output = model(image)\n",
    "    print(output,'##############output###########')\n",
    "    _, predicted = torch.max(output, 1)\n",
    "    print(predicted.data[0],\"predicted\")\n",
    "\n",
    "\n",
    "    classification1 = predicted.data[0]\n",
    "    index = int(classification1)\n",
    "    print(class_names[index])\n",
    "    return class_names[index]\n",
    "\n",
    "\n",
    "\n",
    "if __name__ == '__main__':\n",
    "    #map_location=torch.device('cpu')\n",
    "    image = cv2.imread('praj.jpg')\n",
    "    label = classify_face(image)\n",
    "    print(\"the label is\", label)"
   ],
   "metadata": {
    "collapsed": false
   },
   "id": "474eed9451a553ea"
  },
  {
   "cell_type": "markdown",
   "source": [
    "TRAINING DATA CODE"
   ],
   "metadata": {
    "collapsed": false
   },
   "id": "2e5c747582bc552"
  },
  {
   "cell_type": "code",
   "execution_count": null,
   "outputs": [],
   "source": [
    "import torch\n",
    "import torch.nn as nn\n",
    "import torch.optim as optim\n",
    "from torch.optim import lr_scheduler\n",
    "import numpy as np\n",
    "import torchvision\n",
    "from torchvision import datasets, models, transforms\n",
    "import matplotlib.pyplot as plt\n",
    "import time\n",
    "import os\n",
    "import pandas as pd\n",
    "from sklearn.model_selection import train_test_split\n",
    "import shutil\n",
    "import time\n",
    "import copy"
   ],
   "metadata": {
    "collapsed": false
   },
   "id": "bd683b3f5f276680"
  },
  {
   "cell_type": "code",
   "execution_count": null,
   "outputs": [],
   "source": [
    "!git clone https://github.com/prajnasb/observations"
   ],
   "metadata": {
    "collapsed": false
   },
   "id": "792b832fe6c7f39c"
  },
  {
   "cell_type": "code",
   "execution_count": null,
   "outputs": [],
   "source": [
    "!ls observations/experiements/dest_folder/"
   ],
   "metadata": {
    "collapsed": false
   },
   "id": "8455f114d1e167c0"
  },
  {
   "cell_type": "code",
   "execution_count": null,
   "outputs": [],
   "source": [
    "data_transforms = {\n",
    "    'train': transforms.Compose([\n",
    "        transforms.RandomResizedCrop(224),\n",
    "        transforms.ToTensor(), \n",
    "        transforms.Normalize([0.485, 0.456, 0.406], [0.229, 0.224, 0.225])\n",
    "    ]), \n",
    "    'test' : transforms.Compose([\n",
    "        transforms.Resize(256),\n",
    "        transforms.CenterCrop(224),\n",
    "        transforms.ToTensor(),\n",
    "        transforms.Normalize([0.485, 0.456, 0.406], [0.229, 0.224, 0.225])\n",
    "    ])\n",
    "}"
   ],
   "metadata": {
    "collapsed": false
   },
   "id": "d5ffcd23b40db807"
  },
  {
   "cell_type": "code",
   "execution_count": null,
   "outputs": [],
   "source": [
    "def copy_images_to_path(file_path, file_class, destination_dir):\n",
    "    font_folder = os.path.join(destination_dir, file_class)\n",
    "    if os.path.exists(font_folder) == False:\n",
    "        os.makedirs(font_folder)\n",
    "    \n",
    "    print(\"File being copied from {}:{}\".format(file_path, font_folder))\n",
    "    shutil.copy(file_path, font_folder)\n",
    "    #shutil.copyfile(file_path, font_folder)"
   ],
   "metadata": {
    "collapsed": false
   },
   "id": "c5d62d0ed3664d9a"
  },
  {
   "cell_type": "code",
   "execution_count": null,
   "outputs": [],
   "source": [
    "X_train, y_train = get_train_files_path(experiments_path, data_path, phase='train')\n",
    "X_test, y_test = get_train_files_path(experiments_path, data_path, phase='test')"
   ],
   "metadata": {
    "collapsed": false
   },
   "id": "edac34587c45f04e"
  },
  {
   "cell_type": "code",
   "execution_count": null,
   "outputs": [],
   "source": [
    "train_dir = os.path.join(experiments_path, 'train')\n",
    "test_dir = os.path.join(experiments_path, 'test')\n",
    "\n",
    "if not os.path.exists(train_dir):\n",
    "    os.makedirs(train_dir)\n",
    "\n",
    "if not os.path.exists(test_dir):\n",
    "    os.makedirs(test_dir)"
   ],
   "metadata": {
    "collapsed": false
   },
   "id": "c598b550826c17b9"
  },
  {
   "cell_type": "code",
   "execution_count": null,
   "outputs": [],
   "source": [
    "for file_path, font_class in zip(X_train, y_train):\n",
    "    copy_images_to_path(file_path, font_class, train_dir)"
   ],
   "metadata": {
    "collapsed": false
   },
   "id": "cdcb3d76c741200"
  },
  {
   "cell_type": "code",
   "execution_count": null,
   "outputs": [],
   "source": [
    "image_datasets = {x: datasets.ImageFolder(os.path.join(experiments_path, x), data_transforms[x]) for x in ['train', 'test']}"
   ],
   "metadata": {
    "collapsed": false
   },
   "id": "1c9a9721dbfb1afe"
  },
  {
   "cell_type": "code",
   "execution_count": null,
   "outputs": [],
   "source": [
    "image_datasets['train']"
   ],
   "metadata": {
    "collapsed": false
   },
   "id": "be6bde7395af4790"
  },
  {
   "cell_type": "code",
   "execution_count": null,
   "outputs": [],
   "source": [
    "dataloaders = {x: torch.utils.data.DataLoader(image_datasets[x], \n",
    "                                             batch_size=16, \n",
    "                                             shuffle=True, \n",
    "                                             num_workers=4) \n",
    "               for x in ['train', 'test']}"
   ],
   "metadata": {
    "collapsed": false
   },
   "id": "b54e4b51a3cc7e6c"
  },
  {
   "cell_type": "code",
   "execution_count": null,
   "outputs": [],
   "source": [
    "dataloaders"
   ],
   "metadata": {
    "collapsed": false
   },
   "id": "47778889a4c0d4bd"
  },
  {
   "cell_type": "code",
   "execution_count": null,
   "outputs": [],
   "source": [
    "class_names = image_datasets['train'].classes\n"
   ],
   "metadata": {
    "collapsed": false
   },
   "id": "7b3a45e0c666fbc0"
  },
  {
   "cell_type": "code",
   "execution_count": null,
   "outputs": [],
   "source": [
    "device = torch.device(\"cuda:0\" if torch.cuda.is_available() else \"cpu\")"
   ],
   "metadata": {
    "collapsed": false
   },
   "id": "db59d389cf3a593a"
  },
  {
   "cell_type": "code",
   "execution_count": null,
   "outputs": [],
   "source": [
    "device"
   ],
   "metadata": {
    "collapsed": false
   },
   "id": "9cba297f665ae48d"
  },
  {
   "cell_type": "code",
   "execution_count": null,
   "outputs": [],
   "source": [
    "dataset_sizes = {x: len(image_datasets[x]) for x in ['train', 'test']}"
   ],
   "metadata": {
    "collapsed": false
   },
   "id": "d6629a2fe7f300f7"
  },
  {
   "cell_type": "markdown",
   "source": [
    "IMAGE VISUALIZATION "
   ],
   "metadata": {
    "collapsed": false
   },
   "id": "2d14c0b829b4836f"
  },
  {
   "cell_type": "code",
   "execution_count": null,
   "outputs": [],
   "source": [
    "def imshow(inp, title=None):\n",
    "    inp = inp.numpy().transpose((1, 2, 0))\n",
    "    mean = np.array([0.485, 0.456, 0.406])\n",
    "    std = np.array([0.229, 0.224, 0.225])\n",
    "    inp = std * inp + mean\n",
    "    inp = np.clip(inp, 0, 1)\n",
    "    plt.figure(figsize=(20,20))\n",
    "    plt.imshow(inp)\n",
    "\n",
    "    if title is not None:\n",
    "        plt.title(title)\n",
    "    plt.pause(0.001)\n",
    "    \n",
    "inputs, classes = next(iter(dataloaders['train']))\n",
    "out = torchvision.utils.make_grid(inputs)\n",
    "imshow(out, title=[class_names[x] for x in classes])"
   ],
   "metadata": {
    "collapsed": false
   },
   "id": "d816a3213022905c"
  },
  {
   "cell_type": "markdown",
   "source": [
    "TRAINING THE MODEL "
   ],
   "metadata": {
    "collapsed": false
   },
   "id": "76793058bfa0147"
  },
  {
   "cell_type": "code",
   "execution_count": null,
   "outputs": [],
   "source": [
    "def train_model(model, criterion, optimizer, scheduler, num_epochs=20):\n",
    "    since = time.time()\n",
    "    best_acc = 0.0\n",
    "    best_model = copy.deepcopy(model.state_dict())\n",
    "    \n",
    "    new_freeze_state = None\n",
    "    prev_freeze_state = False\n",
    "    for epoch in range(num_epochs):\n",
    "        print(\"Epoch {}/{}\".format(epoch, num_epochs - 1))\n",
    "        print('-' * 10)\n",
    "        \n",
    "        for phase in ['train', 'test']:\n",
    "            if phase == 'train':\n",
    "                scheduler.step()\n",
    "                model.train()\n",
    "            else:\n",
    "                model.eval()\n",
    "                \n",
    "            running_loss = 0.0\n",
    "            running_corrects = 0\n",
    "        \n",
    "            for inputs, labels in dataloaders[phase]:\n",
    "                inputs = inputs.to(device)\n",
    "                labels = labels.to(device)\n",
    "                \n",
    "                optimizer.zero_grad()\n",
    "                \n",
    "                \n",
    "                with torch.set_grad_enabled(phase == 'train'):\n",
    "                    outputs = model(inputs)\n",
    "                    _, preds = torch.max(outputs, 1)\n",
    "                    loss = criterion(outputs, labels)\n",
    "                    \n",
    "                    if phase == 'train':\n",
    "                        loss.backward()\n",
    "                        optimizer.step()\n",
    "                        \n",
    "                running_loss += loss.item() * inputs.size(0)\n",
    "                running_corrects += torch.sum(preds == labels.data)\n",
    "            \n",
    "            epoch_loss = running_loss / dataset_sizes[phase]\n",
    "            epoch_acc = running_corrects.double() / dataset_sizes[phase]\n",
    "            \n",
    "            print('{} Loss: {:.4f} Acc:{:.4f}'.format(\n",
    "                phase, epoch_loss, epoch_acc))\n",
    "            \n",
    "            \n",
    "            if phase == 'test' and epoch_acc > best_acc:\n",
    "                best_acc = epoch_acc\n",
    "                best_model = copy.deepcopy(model.state_dict())\n",
    "            \n",
    "            print()\n",
    "    \n",
    "    time_elapsed = time.time() - since\n",
    "    print('Training complete in {:0f}m {:.0f}s'.format(\n",
    "    time_elapsed // 60, time_elapsed % 60))\n",
    "    print('Best val acc: {:4f}'.format(best_acc))\n",
    "    \n",
    "    model.load_state_dict(best_model)\n",
    "    return model"
   ],
   "metadata": {
    "collapsed": false
   },
   "id": "2702917f82b59e7f"
  },
  {
   "cell_type": "code",
   "execution_count": null,
   "outputs": [],
   "source": [
    "import ssl"
   ],
   "metadata": {
    "collapsed": false
   },
   "id": "2ae2cdf3d7200f03"
  },
  {
   "cell_type": "code",
   "execution_count": null,
   "outputs": [],
   "source": [
    "ssl._create_default_https_context = ssl._create_unverified_context"
   ],
   "metadata": {
    "collapsed": false
   },
   "id": "2da0331e2ddbef3e"
  },
  {
   "cell_type": "code",
   "execution_count": null,
   "outputs": [],
   "source": [
    "model_ft = models.resnet101(pretrained=True)\n",
    "\n",
    "num_frts = model_ft.fc.in_features\n",
    "model_ft.fc = nn.Linear(num_frts, len(class_names))\n",
    "\n",
    "model_ft = model_ft.to(device)\n",
    "criterion = nn.CrossEntropyLoss()\n",
    "\n",
    "#optimizer_ft = optim.SGD(model_ft.parameters(), lr=0.01, momentum=0.9)\n",
    "optimizer_ft = optim.Adagrad(model_ft.parameters(), lr=0.001)\n",
    "exp_lr_scheduler = lr_scheduler.StepLR(optimizer_ft, step_size=7, gamma=0.1)"
   ],
   "metadata": {
    "collapsed": false
   },
   "id": "9a389666dec78fce"
  },
  {
   "cell_type": "code",
   "execution_count": null,
   "outputs": [],
   "source": [
    "model_ft = train_model(model_ft, criterion, optimizer_ft, exp_lr_scheduler, num_epochs=20)"
   ],
   "metadata": {
    "collapsed": false
   },
   "id": "f3f5bcc4554aa7ed"
  },
  {
   "cell_type": "code",
   "execution_count": null,
   "outputs": [],
   "source": [
    "def visualize_model(model, num_images=6):\n",
    "    was_training = model.training\n",
    "    model.eval()\n",
    "    images_so_far = 0\n",
    "    #fig = plt.figure(figsize=(10,10))\n",
    "    \n",
    "    with torch.no_grad():\n",
    "        for i, (inputs, labels) in enumerate(dataloaders['test']):\n",
    "            inputs = inputs.to(device)\n",
    "            labels = labels.to(device)\n",
    "            \n",
    "            outputs = model(inputs)\n",
    "            _, preds = torch.max(outputs, 1)\n",
    "            print(preds,\"predicitons\")\n",
    "            \n",
    "            \n",
    "            for j in range(inputs.size()[0]):\n",
    "                images_so_far +=1\n",
    "                #ax = plt.subplot(num_images//len(labels)-1, len(labels), images_so_far)\n",
    "                #ax.axis('off')\n",
    "                #ax.set_title('true: {} predicted: {}'.format(class_names[labels[j]], class_names[preds[j]]))\n",
    "                print('true: {} predicted: {}'.format(class_names[labels[j]], class_names[preds[j]]))\n",
    "                #imshow(inputs.cpu().data[j])\n",
    "                \n",
    "                if images_so_far == num_images:\n",
    "                    model.train(mode=was_training)\n",
    "                    return\n",
    "        model.train(mode=was_training)"
   ],
   "metadata": {
    "collapsed": false
   },
   "id": "7801c103658d428d"
  },
  {
   "cell_type": "code",
   "execution_count": null,
   "outputs": [],
   "source": [
    "from google.colab import drive\n",
    "drive.mount('/content/gdrive')\n",
    "!cd /content/gdrive/\n",
    "!ls"
   ],
   "metadata": {
    "collapsed": false
   },
   "id": "a356b66053872f18"
  },
  {
   "cell_type": "code",
   "execution_count": null,
   "outputs": [],
   "source": [
    "torch.save(model_ft, '/content/gdrive/My Drive/mask1_model_resnet101.pth')"
   ],
   "metadata": {
    "collapsed": false
   },
   "id": "cb0b5f5740b7b2b8"
  },
  {
   "cell_type": "code",
   "execution_count": null,
   "outputs": [],
   "source": [
    "visualize_model(model_ft)"
   ],
   "metadata": {
    "collapsed": false
   },
   "id": "f67774e25be155b9"
  },
  {
   "cell_type": "markdown",
   "source": [],
   "metadata": {
    "collapsed": false
   },
   "id": "3e872de1ce09e551"
  }
 ],
 "metadata": {
  "kernelspec": {
   "display_name": "Python 3",
   "language": "python",
   "name": "python3"
  },
  "language_info": {
   "codemirror_mode": {
    "name": "ipython",
    "version": 2
   },
   "file_extension": ".py",
   "mimetype": "text/x-python",
   "name": "python",
   "nbconvert_exporter": "python",
   "pygments_lexer": "ipython2",
   "version": "2.7.6"
  }
 },
 "nbformat": 4,
 "nbformat_minor": 5
}
